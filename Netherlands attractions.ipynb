{
 "cells": [
  {
   "cell_type": "code",
   "execution_count": 109,
   "metadata": {},
   "outputs": [],
   "source": [
    "import pandas as pd\n",
    "import gmplot\n",
    "from tqdm._tqdm_notebook import tqdm_notebook\n",
    "tqdm_notebook.pandas()\n",
    "import json, requests\n",
    "import pprint\n",
    "import urllib.request"
   ]
  },
  {
   "cell_type": "code",
   "execution_count": 110,
   "metadata": {},
   "outputs": [],
   "source": [
    "with urllib.request.urlopen(\"https://open.data.amsterdam.nl/Attracties.json\") as url:\n",
    "    data = json.loads(url.read().decode())"
   ]
  },
  {
   "cell_type": "code",
   "execution_count": 115,
   "metadata": {},
   "outputs": [
    {
     "name": "stdout",
     "output_type": "stream",
     "text": [
      "Wall time: 997 µs\n"
     ]
    }
   ],
   "source": [
    "%%time\n",
    "name=[]\n",
    "city=[]\n",
    "address=[]\n",
    "zipcode=[]\n",
    "latitude=[]\n",
    "longitude=[]\n",
    "for index in range(len(data)):\n",
    "    for i,j,k,l,m,n in zip(data[index]['location']['name'].splitlines(), data[index]['location']['city'].splitlines(),\n",
    "                             data[index]['location']['adress'].splitlines(), data[index]['location']['zipcode'].splitlines(),\n",
    "                             data[index]['location']['latitude'].splitlines(),data[index]['location']['longitude'].splitlines()):\n",
    "        name.append(i)\n",
    "        city.append(j)\n",
    "        address.append(k)\n",
    "        zipcode.append(l)\n",
    "        latitude.append(m)\n",
    "        longitude.append(n)\n",
    "df = pd.DataFrame({'name':name, 'city':city, 'address':address, 'zipcode':zipcode, 'latitude':latitude, 'longitude':longitude})"
   ]
  },
  {
   "cell_type": "code",
   "execution_count": 112,
   "metadata": {},
   "outputs": [],
   "source": [
    "df['latitude'] = df['latitude'].str.replace(',','.').astype('float')\n",
    "df['longitude'] = df['longitude'].str.replace(',','.').astype('float')"
   ]
  },
  {
   "cell_type": "code",
   "execution_count": 113,
   "metadata": {},
   "outputs": [],
   "source": [
    "# latitude and longitude list \n",
    "latitude_list = df['latitude'] \n",
    "longitude_list = df['longitude'] \n",
    "\n",
    "# center co-ordinates of the map \n",
    "gmap = gmplot.GoogleMapPlotter(df['latitude'].mean(),df['longitude'].mean(),9)\n",
    "\n",
    "# plot the co-ordinates on the google map \n",
    "gmap.scatter( latitude_list, longitude_list, '# FF0000', size = 40, marker = True) \n",
    "\n",
    "# the following code will create the html file view that in your web browser \n",
    "gmap.heatmap(latitude_list, longitude_list) \n",
    "\n",
    "gmap.draw( \"mymap.html\" )"
   ]
  }
 ],
 "metadata": {
  "kernelspec": {
   "display_name": "Python 3",
   "language": "python",
   "name": "python3"
  },
  "language_info": {
   "codemirror_mode": {
    "name": "ipython",
    "version": 3
   },
   "file_extension": ".py",
   "mimetype": "text/x-python",
   "name": "python",
   "nbconvert_exporter": "python",
   "pygments_lexer": "ipython3",
   "version": "3.7.1"
  }
 },
 "nbformat": 4,
 "nbformat_minor": 2
}
